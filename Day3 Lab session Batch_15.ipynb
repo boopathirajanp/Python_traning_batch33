{
 "cells": [
  {
   "cell_type": "code",
   "execution_count": 1,
   "metadata": {},
   "outputs": [
    {
     "name": "stdout",
     "output_type": "stream",
     "text": [
      "mark\n"
     ]
    }
   ],
   "source": [
    "name =\"mark\"\n",
    "print(name)"
   ]
  },
  {
   "cell_type": "code",
   "execution_count": 2,
   "metadata": {},
   "outputs": [
    {
     "name": "stdout",
     "output_type": "stream",
     "text": [
      "Billa\n"
     ]
    }
   ],
   "source": [
    "name='Billa'\n",
    "print(name)"
   ]
  },
  {
   "cell_type": "code",
   "execution_count": 5,
   "metadata": {},
   "outputs": [
    {
     "name": "stdout",
     "output_type": "stream",
     "text": [
      "Billa Jilla\n"
     ]
    }
   ],
   "source": [
    "name1 =\"billa\"\n",
    "name2=\"jilla\"\n",
    "name3=f\"{name1.title()} {name2.title()}\"\n",
    "print(name3)\n"
   ]
  },
  {
   "cell_type": "code",
   "execution_count": 6,
   "metadata": {},
   "outputs": [
    {
     "name": "stdout",
     "output_type": "stream",
     "text": [
      "BILLA jilla\n"
     ]
    }
   ],
   "source": [
    "name1 =\"billa\"\n",
    "name2=\"jilla\"\n",
    "name3=f\"{name1.upper()} {name2.lower()}\"\n",
    "print(name3)"
   ]
  },
  {
   "cell_type": "code",
   "execution_count": 7,
   "metadata": {},
   "outputs": [
    {
     "name": "stdout",
     "output_type": "stream",
     "text": [
      " My name is BILLA jilla\n"
     ]
    }
   ],
   "source": [
    "name1 =\"billa\"\n",
    "name2=\"jilla\"\n",
    "name3=f\" My name is {name1.upper()} {name2.lower()}\"\n",
    "print(name3)"
   ]
  },
  {
   "cell_type": "code",
   "execution_count": 16,
   "metadata": {},
   "outputs": [
    {
     "name": "stdout",
     "output_type": "stream",
     "text": [
      " jilla\n"
     ]
    }
   ],
   "source": [
    "name1 =\"billa \"\n",
    "name2=\" jilla\"\n",
    "print(name2.rstrip())"
   ]
  },
  {
   "cell_type": "code",
   "execution_count": 17,
   "metadata": {},
   "outputs": [
    {
     "name": "stdout",
     "output_type": "stream",
     "text": [
      "New1 New2 New3\n"
     ]
    }
   ],
   "source": [
    "name1 =\"billa \"\n",
    "name2=\" jilla\"\n",
    "print('New1\\n','\\tcNew2','\\tcNew3')"
   ]
  },
  {
   "cell_type": "code",
   "execution_count": 18,
   "metadata": {},
   "outputs": [
    {
     "name": "stdout",
     "output_type": "stream",
     "text": [
      "New1\n",
      " \tcNew2 \tcNew3\n"
     ]
    }
   ],
   "source": [
    "name1 =\"billa \"\n",
    "name2=\" jilla\"\n",
    "print('New1\\n','\\tcNew2','\\tcNew3')"
   ]
  },
  {
   "cell_type": "code",
   "execution_count": null,
   "metadata": {},
   "outputs": [],
   "source": []
  }
 ],
 "metadata": {
  "kernelspec": {
   "display_name": "Python 3",
   "language": "python",
   "name": "python3"
  },
  "language_info": {
   "codemirror_mode": {
    "name": "ipython",
    "version": 3
   },
   "file_extension": ".py",
   "mimetype": "text/x-python",
   "name": "python",
   "nbconvert_exporter": "python",
   "pygments_lexer": "ipython3",
   "version": "3.7.6"
  }
 },
 "nbformat": 4,
 "nbformat_minor": 4
}
